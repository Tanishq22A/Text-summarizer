{
 "cells": [
  {
   "cell_type": "code",
   "execution_count": 14,
   "id": "98aec606",
   "metadata": {},
   "outputs": [],
   "source": [
    "import spacy\n",
    "from spacy.lang.en.stop_words import STOP_WORDS\n",
    "from string import punctuation\n",
    "from heapq import nlargest"
   ]
  },
  {
   "cell_type": "code",
   "execution_count": 3,
   "id": "a3e5f60d",
   "metadata": {},
   "outputs": [],
   "source": [
    "text = 'The old lighthouse keeper, Silas, had a lonely life. Each dawn he had climb the winding stairs, his weathered hands gripping the cold stone. The beam of light cut through the morning mist, a silent promise of safety for ships at sea. One day, a storm unlike any he had seen before descended. The wind howled like a banshee, and the waves crashed against the rocks below with terrifying force. Silas struggled to keep the lamp steady, his heart pounding against his ribs. The storm raged for hours. Finally, as the first sliver of sun broke through the clouds, the storm subsided. Silas slumped against the wall, exhausted but relieved. He looked out at the sea a sense of calm washed over him. He had done his duty. The lighthouse stood tall, a beacon of hope in a world that seemed determined to be dark. He knew his solitude was a small price to pay for the lives he helped save'"
   ]
  },
  {
   "cell_type": "code",
   "execution_count": 4,
   "id": "b708d88f",
   "metadata": {},
   "outputs": [],
   "source": [
    "stopwords = list(STOP_WORDS)"
   ]
  },
  {
   "cell_type": "code",
   "execution_count": 5,
   "id": "0f205928",
   "metadata": {},
   "outputs": [],
   "source": [
    "nlp = spacy.load('en_core_web_sm')\n",
    "doc= nlp(text)"
   ]
  },
  {
   "cell_type": "code",
   "execution_count": 6,
   "id": "d4f4bedc",
   "metadata": {},
   "outputs": [],
   "source": [
    "tokens = [token.text for token in doc]"
   ]
  },
  {
   "cell_type": "code",
   "execution_count": 7,
   "id": "b19e5849",
   "metadata": {},
   "outputs": [
    {
     "name": "stdout",
     "output_type": "stream",
     "text": [
      "{'old': 1, 'lighthouse': 2, 'keeper': 1, 'Silas': 3, 'lonely': 1, 'life': 1, 'dawn': 1, 'climb': 1, 'winding': 1, 'stairs': 1, 'weathered': 1, 'hands': 1, 'gripping': 1, 'cold': 1, 'stone': 1, 'beam': 1, 'light': 1, 'cut': 1, 'morning': 1, 'mist': 1, 'silent': 1, 'promise': 1, 'safety': 1, 'ships': 1, 'sea': 2, 'day': 1, 'storm': 3, 'unlike': 1, 'seen': 1, 'descended': 1, 'wind': 1, 'howled': 1, 'like': 1, 'banshee': 1, 'waves': 1, 'crashed': 1, 'rocks': 1, 'terrifying': 1, 'force': 1, 'struggled': 1, 'lamp': 1, 'steady': 1, 'heart': 1, 'pounding': 1, 'ribs': 1, 'raged': 1, 'hours': 1, 'Finally': 1, 'sliver': 1, 'sun': 1, 'broke': 1, 'clouds': 1, 'subsided': 1, 'slumped': 1, 'wall': 1, 'exhausted': 1, 'relieved': 1, 'looked': 1, 'sense': 1, 'calm': 1, 'washed': 1, 'duty': 1, 'stood': 1, 'tall': 1, 'beacon': 1, 'hope': 1, 'world': 1, 'determined': 1, 'dark': 1, 'knew': 1, 'solitude': 1, 'small': 1, 'price': 1, 'pay': 1, 'lives': 1, 'helped': 1, 'save': 1}\n"
     ]
    }
   ],
   "source": [
    "word_freq={}\n",
    "for word in doc:\n",
    "    if word.text.lower() not in stopwords and word.text.lower() not in punctuation:\n",
    "        if word.text not in word_freq.keys():\n",
    "            word_freq[word.text]=1\n",
    "        else:\n",
    "            word_freq[word.text] += 1\n",
    "\n",
    "print(word_freq)"
   ]
  },
  {
   "cell_type": "code",
   "execution_count": 8,
   "id": "7a6529da",
   "metadata": {},
   "outputs": [
    {
     "name": "stdout",
     "output_type": "stream",
     "text": [
      "3\n"
     ]
    }
   ],
   "source": [
    "max_freq = max(word_freq.values())\n",
    "\n",
    "print(max_freq)"
   ]
  },
  {
   "cell_type": "code",
   "execution_count": 9,
   "id": "d23a8a08",
   "metadata": {},
   "outputs": [
    {
     "name": "stdout",
     "output_type": "stream",
     "text": [
      "{'old': 0.3333333333333333, 'lighthouse': 0.6666666666666666, 'keeper': 0.3333333333333333, 'Silas': 1.0, 'lonely': 0.3333333333333333, 'life': 0.3333333333333333, 'dawn': 0.3333333333333333, 'climb': 0.3333333333333333, 'winding': 0.3333333333333333, 'stairs': 0.3333333333333333, 'weathered': 0.3333333333333333, 'hands': 0.3333333333333333, 'gripping': 0.3333333333333333, 'cold': 0.3333333333333333, 'stone': 0.3333333333333333, 'beam': 0.3333333333333333, 'light': 0.3333333333333333, 'cut': 0.3333333333333333, 'morning': 0.3333333333333333, 'mist': 0.3333333333333333, 'silent': 0.3333333333333333, 'promise': 0.3333333333333333, 'safety': 0.3333333333333333, 'ships': 0.3333333333333333, 'sea': 0.6666666666666666, 'day': 0.3333333333333333, 'storm': 1.0, 'unlike': 0.3333333333333333, 'seen': 0.3333333333333333, 'descended': 0.3333333333333333, 'wind': 0.3333333333333333, 'howled': 0.3333333333333333, 'like': 0.3333333333333333, 'banshee': 0.3333333333333333, 'waves': 0.3333333333333333, 'crashed': 0.3333333333333333, 'rocks': 0.3333333333333333, 'terrifying': 0.3333333333333333, 'force': 0.3333333333333333, 'struggled': 0.3333333333333333, 'lamp': 0.3333333333333333, 'steady': 0.3333333333333333, 'heart': 0.3333333333333333, 'pounding': 0.3333333333333333, 'ribs': 0.3333333333333333, 'raged': 0.3333333333333333, 'hours': 0.3333333333333333, 'Finally': 0.3333333333333333, 'sliver': 0.3333333333333333, 'sun': 0.3333333333333333, 'broke': 0.3333333333333333, 'clouds': 0.3333333333333333, 'subsided': 0.3333333333333333, 'slumped': 0.3333333333333333, 'wall': 0.3333333333333333, 'exhausted': 0.3333333333333333, 'relieved': 0.3333333333333333, 'looked': 0.3333333333333333, 'sense': 0.3333333333333333, 'calm': 0.3333333333333333, 'washed': 0.3333333333333333, 'duty': 0.3333333333333333, 'stood': 0.3333333333333333, 'tall': 0.3333333333333333, 'beacon': 0.3333333333333333, 'hope': 0.3333333333333333, 'world': 0.3333333333333333, 'determined': 0.3333333333333333, 'dark': 0.3333333333333333, 'knew': 0.3333333333333333, 'solitude': 0.3333333333333333, 'small': 0.3333333333333333, 'price': 0.3333333333333333, 'pay': 0.3333333333333333, 'lives': 0.3333333333333333, 'helped': 0.3333333333333333, 'save': 0.3333333333333333}\n"
     ]
    }
   ],
   "source": [
    "for word in word_freq.keys():\n",
    "    word_freq[word] = word_freq[word]/max_freq\n",
    "\n",
    "print(word_freq)"
   ]
  },
  {
   "cell_type": "code",
   "execution_count": 10,
   "id": "065231ac",
   "metadata": {},
   "outputs": [
    {
     "name": "stdout",
     "output_type": "stream",
     "text": [
      "[The old lighthouse keeper, Silas, had a lonely life., Each dawn he had climb the winding stairs, his weathered hands gripping the cold stone., The beam of light cut through the morning mist, a silent promise of safety for ships at sea., One day, a storm unlike any he had seen before descended., The wind howled like a banshee, and the waves crashed against the rocks below with terrifying force., Silas struggled to keep the lamp steady, his heart pounding against his ribs., The storm raged for hours., Finally, as the first sliver of sun broke through the clouds, the storm subsided., Silas slumped against the wall, exhausted but relieved., He looked out at the sea a sense of calm washed over him., He had done his duty., The lighthouse stood tall, a beacon of hope in a world that seemed determined to be dark., He knew his solitude was a small price to pay for the lives he helped save]\n"
     ]
    }
   ],
   "source": [
    "sent_tokens = [sent for sent in doc.sents]\n",
    "print(sent_tokens)"
   ]
  },
  {
   "cell_type": "code",
   "execution_count": 11,
   "id": "fbd66a7b",
   "metadata": {},
   "outputs": [
    {
     "name": "stdout",
     "output_type": "stream",
     "text": [
      "{The old lighthouse keeper, Silas, had a lonely life.: 3.0, Each dawn he had climb the winding stairs, his weathered hands gripping the cold stone.: 3.0, The beam of light cut through the morning mist, a silent promise of safety for ships at sea.: 3.6666666666666665, One day, a storm unlike any he had seen before descended.: 2.333333333333333, The wind howled like a banshee, and the waves crashed against the rocks below with terrifying force.: 3.0, Silas struggled to keep the lamp steady, his heart pounding against his ribs.: 3.0, The storm raged for hours.: 1.6666666666666665, Finally, as the first sliver of sun broke through the clouds, the storm subsided.: 3.0, Silas slumped against the wall, exhausted but relieved.: 2.333333333333333, He looked out at the sea a sense of calm washed over him.: 1.9999999999999998, He had done his duty.: 0.3333333333333333, The lighthouse stood tall, a beacon of hope in a world that seemed determined to be dark.: 3.0, He knew his solitude was a small price to pay for the lives he helped save: 2.6666666666666665}\n"
     ]
    }
   ],
   "source": [
    "sent_scores={}\n",
    "for sent in sent_tokens:\n",
    "    for word in sent:\n",
    "        if word.text in word_freq.keys():\n",
    "            if sent not in sent_scores.keys():\n",
    "                sent_scores[sent]= word_freq[word.text]\n",
    "            else:\n",
    "                sent_scores[sent] += word_freq[word.text]\n",
    "print(sent_scores)\n"
   ]
  },
  {
   "cell_type": "code",
   "execution_count": 17,
   "id": "693e94c1",
   "metadata": {},
   "outputs": [
    {
     "name": "stdout",
     "output_type": "stream",
     "text": [
      "3\n"
     ]
    }
   ],
   "source": [
    "select_len = int(len(sent_tokens)* 0.3)\n",
    "print(select_len)"
   ]
  },
  {
   "cell_type": "code",
   "execution_count": 18,
   "id": "de82961a",
   "metadata": {},
   "outputs": [
    {
     "name": "stdout",
     "output_type": "stream",
     "text": [
      "[The beam of light cut through the morning mist, a silent promise of safety for ships at sea., The old lighthouse keeper, Silas, had a lonely life., Each dawn he had climb the winding stairs, his weathered hands gripping the cold stone.]\n"
     ]
    }
   ],
   "source": [
    "summary = nlargest(select_len, sent_scores, key=sent_scores.get)\n",
    "print(summary)"
   ]
  },
  {
   "cell_type": "code",
   "execution_count": 19,
   "id": "8420a46a",
   "metadata": {},
   "outputs": [
    {
     "name": "stdout",
     "output_type": "stream",
     "text": [
      "The beam of light cut through the morning mist, a silent promise of safety for ships at sea.The old lighthouse keeper, Silas, had a lonely life.Each dawn he had climb the winding stairs, his weathered hands gripping the cold stone.\n"
     ]
    }
   ],
   "source": [
    "final_summary = [word.text for word in summary]\n",
    "summary = ''.join(final_summary)\n",
    "print(summary)"
   ]
  },
  {
   "cell_type": "code",
   "execution_count": null,
   "id": "f8c1d245",
   "metadata": {},
   "outputs": [
    {
     "name": "stdout",
     "output_type": "stream",
     "text": [
      "161\n"
     ]
    }
   ],
   "source": [
    "print(len(text.split(' ')))\n"
   ]
  },
  {
   "cell_type": "code",
   "execution_count": 22,
   "id": "7a3480ec",
   "metadata": {},
   "outputs": [
    {
     "name": "stdout",
     "output_type": "stream",
     "text": [
      "40\n"
     ]
    }
   ],
   "source": [
    "print(len(summary.split(' ')))"
   ]
  },
  {
   "cell_type": "code",
   "execution_count": 23,
   "id": "6169588f",
   "metadata": {},
   "outputs": [],
   "source": [
    "import pickle"
   ]
  },
  {
   "cell_type": "code",
   "execution_count": 25,
   "id": "8d78913f",
   "metadata": {},
   "outputs": [],
   "source": [
    "pickle.dump(summary , open('summ.pkl','wb'))"
   ]
  },
  {
   "cell_type": "code",
   "execution_count": null,
   "id": "97f20281",
   "metadata": {},
   "outputs": [],
   "source": []
  }
 ],
 "metadata": {
  "kernelspec": {
   "display_name": "Python 3 (ipykernel)",
   "language": "python",
   "name": "python3"
  },
  "language_info": {
   "codemirror_mode": {
    "name": "ipython",
    "version": 3
   },
   "file_extension": ".py",
   "mimetype": "text/x-python",
   "name": "python",
   "nbconvert_exporter": "python",
   "pygments_lexer": "ipython3",
   "version": "3.12.3"
  }
 },
 "nbformat": 4,
 "nbformat_minor": 5
}
